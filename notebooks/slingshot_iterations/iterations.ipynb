{
 "cells": [
  {
   "cell_type": "code",
   "execution_count": 9,
   "metadata": {},
   "outputs": [],
   "source": [
    "import re\n",
    "import numpy as np\n",
    "import matplotlib.pyplot as plt\n",
    "from matplotlib import rc\n",
    "from matplotlib.ticker import MultipleLocator, LogLocator\n",
    "\n",
    "%matplotlib inline\n",
    "plt.rcParams['figure.figsize'] = [15, 15]\n",
    "plt.rcParams.update({'font.size': 45})\n",
    "rc('text', usetex=True)"
   ]
  },
  {
   "cell_type": "code",
   "execution_count": 10,
   "metadata": {},
   "outputs": [],
   "source": [
    "def read_iterations(filename):\n",
    "    cg_iters = []\n",
    "    newt_iters = []\n",
    "\n",
    "    with open(filename) as logfile:\n",
    "        for line in logfile:\n",
    "            match = re.match(\".*CG iterations: (\\d+).*\", line)\n",
    "            if match:\n",
    "                cg_iters.append(match.group(1))\n",
    "                continue\n",
    "            \n",
    "            match = re.match(\".*Number of newton iterations in Backward Euler step: (\\d+).*\", line)\n",
    "            if match:\n",
    "                newt_iters.append(match.group(1))\n",
    "                continue\n",
    "\n",
    "    cg_iters = np.array(cg_iters, dtype=np.int32)\n",
    "    newt_iters = np.array(newt_iters, dtype=np.int32)\n",
    "\n",
    "    return (cg_iters, newt_iters)\n",
    "            "
   ]
  },
  {
   "cell_type": "code",
   "execution_count": 11,
   "metadata": {},
   "outputs": [],
   "source": [
    "def get_stats(filename):\n",
    "    (cg_iters, newt_iters) = read_iterations(filename)\n",
    "\n",
    "    timesteps = len(newt_iters)\n",
    "    total_cg_iters = cg_iters.sum()\n",
    "    total_newt_iters = newt_iters.sum()\n",
    "    avg_cg_iters = total_cg_iters / timesteps\n",
    "    avg_newt_iters = total_newt_iters / timesteps\n",
    "\n",
    "    print(f\"Filename: {filename}\")\n",
    "    print(f\"Timesteps: {timesteps}\")\n",
    "    print(f\"Total CG iters: {total_cg_iters}\")\n",
    "    print(f\"Total Newt iters: {total_newt_iters}\")\n",
    "    print(f\"Avg CG iters per timestep: {avg_cg_iters}\")\n",
    "    print(f\"Avg Newt iters per timestep: {avg_newt_iters}\")"
   ]
  },
  {
   "cell_type": "code",
   "execution_count": 12,
   "metadata": {},
   "outputs": [
    {
     "output_type": "stream",
     "name": "stdout",
     "text": "Filename: armadillo_slingshot_embedded_tet10_5000_femproto2_2020-05-21_11-35-43-891374.log\nTimesteps: 5000\nTotal CG iters: 1463478\nTotal Newt iters: 5809\nAvg CG iters per timestep: 292.6956\nAvg Newt iters per timestep: 1.1618\n"
    }
   ],
   "source": [
    "get_stats(\"armadillo_slingshot_embedded_tet10_5000_femproto2_2020-05-21_11-35-43-891374.log\")"
   ]
  },
  {
   "cell_type": "code",
   "execution_count": 13,
   "metadata": {},
   "outputs": [
    {
     "output_type": "stream",
     "name": "stdout",
     "text": "Filename: armadillo_slingshot_fem_tet10_5000_femproto2_2020-05-21_09-08-23-084417.log\nTimesteps: 5000\nTotal CG iters: 1155671\nTotal Newt iters: 5803\nAvg CG iters per timestep: 231.1342\nAvg Newt iters per timestep: 1.1606\n"
    }
   ],
   "source": [
    "get_stats(\"armadillo_slingshot_fem_tet10_5000_femproto2_2020-05-21_09-08-23-084417.log\")"
   ]
  },
  {
   "cell_type": "code",
   "execution_count": 14,
   "metadata": {},
   "outputs": [
    {
     "output_type": "stream",
     "name": "stdout",
     "text": "Filename: armadillo_slingshot_embedded_tet10_500_femproto2_2020-05-21_14-50-43-484014.log\nTimesteps: 5000\nTotal CG iters: 736848\nTotal Newt iters: 5659\nAvg CG iters per timestep: 147.3696\nAvg Newt iters per timestep: 1.1318\n"
    }
   ],
   "source": [
    "get_stats(\"armadillo_slingshot_embedded_tet10_500_femproto2_2020-05-21_14-50-43-484014.log\")"
   ]
  },
  {
   "cell_type": "code",
   "execution_count": 16,
   "metadata": {},
   "outputs": [
    {
     "output_type": "stream",
     "name": "stdout",
     "text": "Filename: armadillo_slingshot_fem_tet10_500_femproto2_2020-05-22_13-50-41-106940.log\nTimesteps: 5000\nTotal CG iters: 508117\nTotal Newt iters: 5856\nAvg CG iters per timestep: 101.6234\nAvg Newt iters per timestep: 1.1712\n"
    }
   ],
   "source": [
    "get_stats(\"armadillo_slingshot_fem_tet10_500_femproto2_2020-05-22_13-50-41-106940.log\")"
   ]
  },
  {
   "cell_type": "code",
   "execution_count": null,
   "metadata": {},
   "outputs": [],
   "source": []
  }
 ],
 "metadata": {
  "kernelspec": {
   "display_name": "Python 3",
   "language": "python",
   "name": "python3"
  },
  "language_info": {
   "codemirror_mode": {
    "name": "ipython",
    "version": 3
   },
   "file_extension": ".py",
   "mimetype": "text/x-python",
   "name": "python",
   "nbconvert_exporter": "python",
   "pygments_lexer": "ipython3",
   "version": "3.7.6-final"
  }
 },
 "nbformat": 4,
 "nbformat_minor": 2
}