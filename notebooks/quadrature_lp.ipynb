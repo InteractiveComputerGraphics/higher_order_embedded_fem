{
 "cells": [
  {
   "cell_type": "code",
   "execution_count": null,
   "metadata": {},
   "outputs": [],
   "source": [
    "import numpy as np\n",
    "from scipy.optimize import linprog\n",
    "import matplotlib.pyplot as plt"
   ]
  },
  {
   "cell_type": "code",
   "execution_count": null,
   "metadata": {},
   "outputs": [],
   "source": [
    "P = np.loadtxt('../P.txt')\n",
    "b = np.loadtxt('../b.txt')\n",
    "w = np.loadtxt('../w.txt')\n",
    "points = np.loadtxt('../points.txt')\n",
    "r = P.dot(w) - b\n",
    "np.linalg.norm(r)"
   ]
  },
  {
   "cell_type": "code",
   "execution_count": null,
   "metadata": {},
   "outputs": [],
   "source": [
    "volume = sum(w)\n",
    "centroid = points.transpose().dot(w) / volume\n",
    "\n",
    "# Set up linprog constraints\n",
    "A_eq = P.copy()\n",
    "b_eq = b.copy()\n",
    "x0 = w.copy()\n",
    "c = np.zeros(w.size)#np.ones(w.size)"
   ]
  },
  {
   "cell_type": "code",
   "execution_count": null,
   "metadata": {},
   "outputs": [],
   "source": [
    "# Note: linprog has default non-negative bound x >= 0\n",
    "result = linprog(c, A_eq = A_eq, b_eq=b_eq, x0=x0, method='simplex')\n",
    "result"
   ]
  },
  {
   "cell_type": "code",
   "execution_count": null,
   "metadata": {},
   "outputs": [],
   "source": [
    "w_new = result.x.copy()\n",
    "\n",
    "# Check that w_new also satisfies constraints\n",
    "r_new = P.dot(w_new) - b\n",
    "print(np.min(w_new))\n",
    "np.linalg.norm(r_new)"
   ]
  },
  {
   "cell_type": "code",
   "execution_count": null,
   "metadata": {},
   "outputs": [],
   "source": [
    "plt.figure(figsize=(20,20))\n",
    "plt.plot(w, color=\"blue\", linewidth=2.5, linestyle=\"-\", label=\"w\")\n",
    "plt.plot(w_new, color=\"red\",  linewidth=2.5, linestyle=\"-\", label=\"w_new\")\n",
    "plt.legend(loc='upper left', frameon=False)\n",
    "plt.show()"
   ]
  },
  {
   "cell_type": "code",
   "execution_count": null,
   "metadata": {},
   "outputs": [],
   "source": [
    "num_nonzero_old = len([w_i for w_i in w if w_i > 1e-14])\n",
    "num_nonzero_new = len([w_i for w_i in w_new if w_i > 1e-14])\n",
    "print(\"Num nonzero old: {}\".format(num_nonzero_old))\n",
    "print(\"Num nonzero new: {}\".format(num_nonzero_new))"
   ]
  },
  {
   "cell_type": "code",
   "execution_count": null,
   "metadata": {},
   "outputs": [],
   "source": [
    "# Try the same thing with Google's GLOP solver\n",
    "from ortools.linear_solver import pywraplp"
   ]
  },
  {
   "cell_type": "code",
   "execution_count": null,
   "metadata": {},
   "outputs": [],
   "source": [
    "solver = pywraplp.Solver('quadrature_lp', pywraplp.Solver.GLOP_LINEAR_PROGRAMMING)\n",
    "\n",
    "w_vars = [ solver.NumVar(0.0, float(\"inf\"), \"w_{}\".format(i)) for i in range(0, len(w))]\n",
    "\n",
    "# TODO: Add P constraints\n",
    "def create_P_row_constraint(P, b, i):\n",
    "    constraint = solver.Constraint(b[i], b[i], 'P_{}'.format(i))\n",
    "    for j in range(0, P.shape[1]):\n",
    "        constraint.SetCoefficient(w_vars[j], P[i, j])\n",
    "        \n",
    "P_constraints = [ create_P_row_constraint(P, b, i) for i in range(0, P.shape[0]) ]\n",
    "objective = solver.Objective()\n",
    "# for w_i in w_vars:\n",
    "#     objective.SetCoefficient(w_i, 1)\n",
    "\n",
    "solver.Solve()\n",
    "objective.Value()\n",
    "\n",
    "w_glop = np.array([ w_i.solution_value() for w_i in w_vars ])"
   ]
  },
  {
   "cell_type": "code",
   "execution_count": null,
   "metadata": {},
   "outputs": [],
   "source": [
    "plt.figure(figsize=(20,20))\n",
    "plt.plot(w, color=\"blue\", linewidth=2.5, linestyle=\"-\", label=\"w\")\n",
    "plt.plot(w_new, color=\"red\",  linewidth=2.5, linestyle=\"-\", label=\"w_linprog\")\n",
    "plt.plot(w_new, color=\"green\",  linewidth=2.5, linestyle=\"-\", label=\"w_glop\")\n",
    "plt.legend(loc='upper left', frameon=False)\n",
    "plt.show()"
   ]
  },
  {
   "cell_type": "code",
   "execution_count": null,
   "metadata": {},
   "outputs": [],
   "source": [
    "num_nonzero_glop = len([w_i for w_i in w_glop if w_i > 1e-14])\n",
    "print(\"Num nonzero glop: {}\".format(num_nonzero_glop))"
   ]
  },
  {
   "cell_type": "code",
   "execution_count": null,
   "metadata": {},
   "outputs": [],
   "source": [
    "from bokeh.plotting import figure, show, output_file, output_notebook\n",
    "from math import sqrt, pi\n",
    "\n",
    "output_notebook()\n",
    "\n",
    "def plot_points(points, weights):\n",
    "    x = points[:, 0]\n",
    "    y = points[:, 1]\n",
    "    print(sum(weights))\n",
    "    radii = [ sqrt(w_i / pi) for w_i in weights ]\n",
    "    colors = [\n",
    "        \"#%02x%02x%02x\" % (int(r), int(g), 150) for r, g in zip(50+2*x, 30+2*y)\n",
    "    ]\n",
    "\n",
    "    TOOLS=\"hover,crosshair,pan,wheel_zoom,zoom_in,zoom_out,box_zoom,undo,redo,reset,tap,save,box_select,poly_select,lasso_select,\"\n",
    "\n",
    "    p = figure(tools=TOOLS)\n",
    "\n",
    "    p.scatter(x, y, radius=radii,\n",
    "              fill_color=colors, fill_alpha=0.6,\n",
    "              line_color=None)\n",
    "\n",
    "    show(p)"
   ]
  },
  {
   "cell_type": "code",
   "execution_count": null,
   "metadata": {},
   "outputs": [],
   "source": [
    "plot_points(points, w_new)"
   ]
  },
  {
   "cell_type": "code",
   "execution_count": null,
   "metadata": {},
   "outputs": [],
   "source": [
    "plot_points(points, w_glop)"
   ]
  },
  {
   "cell_type": "code",
   "execution_count": null,
   "metadata": {},
   "outputs": [],
   "source": [
    "plot_points(points, w)"
   ]
  },
  {
   "cell_type": "code",
   "execution_count": null,
   "metadata": {},
   "outputs": [],
   "source": []
  }
 ],
 "metadata": {
  "kernelspec": {
   "display_name": "Python 3",
   "language": "python",
   "name": "python3"
  },
  "language_info": {
   "codemirror_mode": {
    "name": "ipython",
    "version": 3
   },
   "file_extension": ".py",
   "mimetype": "text/x-python",
   "name": "python",
   "nbconvert_exporter": "python",
   "pygments_lexer": "ipython3",
   "version": "3.7.4"
  }
 },
 "nbformat": 4,
 "nbformat_minor": 2
}
