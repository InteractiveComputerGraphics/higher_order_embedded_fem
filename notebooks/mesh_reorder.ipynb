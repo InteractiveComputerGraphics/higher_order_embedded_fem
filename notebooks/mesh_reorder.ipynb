{
 "cells": [
  {
   "cell_type": "code",
   "execution_count": null,
   "metadata": {},
   "outputs": [],
   "source": [
    "import scipy\n",
    "import scipy.io\n",
    "import numpy as np\n",
    "import matplotlib.pylab as plt\n",
    "from scipy.sparse import csr_matrix"
   ]
  },
  {
   "cell_type": "code",
   "execution_count": null,
   "metadata": {},
   "outputs": [],
   "source": []
  },
  {
   "cell_type": "code",
   "execution_count": null,
   "metadata": {},
   "outputs": [],
   "source": [
    "original_node_matrix = scipy.io.mmread(\"../data/cylinder_shell_fine_fem_quadratic/pattern_original_nodes.mm\")\n",
    "original_element_matrix = scipy.io.mmread(\"../data/cylinder_shell_fine_fem_quadratic/pattern_original_elements.mm\")\n",
    "plt.figure(figsize=(20, 20))\n",
    "plt.spy(original_node_matrix)\n",
    "plt.figure(figsize=(20, 20))\n",
    "plt.spy(original_element_matrix)"
   ]
  },
  {
   "cell_type": "code",
   "execution_count": null,
   "metadata": {
    "scrolled": false
   },
   "outputs": [],
   "source": [
    "reordered_node_matrix = scipy.io.mmread(\"../data/cylinder_shell_fine_fem_quadratic/pattern_reordered_nodes.mm\")\n",
    "reordered_element_matrix = scipy.io.mmread(\"../data/cylinder_shell_fine_fem_quadratic/pattern_reordered_elements.mm\")\n",
    "plt.figure(figsize=(20, 20))\n",
    "plt.spy(reordered_node_matrix)\n",
    "plt.figure(figsize=(20, 20))\n",
    "plt.spy(reordered_element_matrix)"
   ]
  },
  {
   "cell_type": "code",
   "execution_count": null,
   "metadata": {},
   "outputs": [],
   "source": []
  }
 ],
 "metadata": {
  "kernelspec": {
   "display_name": "Python 3",
   "language": "python",
   "name": "python3"
  },
  "language_info": {
   "codemirror_mode": {
    "name": "ipython",
    "version": 3
   },
   "file_extension": ".py",
   "mimetype": "text/x-python",
   "name": "python",
   "nbconvert_exporter": "python",
   "pygments_lexer": "ipython3",
   "version": "3.7.4"
  }
 },
 "nbformat": 4,
 "nbformat_minor": 4
}
