{
 "cells": [
  {
   "cell_type": "markdown",
   "metadata": {},
   "source": [
    "L2 error squared estimation\n",
    "----------------------------\n",
    "\n",
    "\n",
    "### Bilinear quad"
   ]
  },
  {
   "cell_type": "code",
   "execution_count": 13,
   "metadata": {},
   "outputs": [],
   "source": [
    "from sympy import *\n",
    "from sympy.integrals.intpoly import polytope_integrate\n",
    "from sympy.abc import x, y"
   ]
  },
  {
   "cell_type": "code",
   "execution_count": 14,
   "metadata": {},
   "outputs": [],
   "source": [
    "points = [ Point2D(-1, -1), Point2D(2, -2), Point2D(4, 1), Point2D(-2, 3)]\n",
    "\n",
    "def phi_alpha_beta(alpha, beta, x, y):\n",
    "    return (1 + alpha * x) * (1 + beta * y) / 4\n",
    "\n",
    "# Define basis functions phi(x, y)\n",
    "def phi_local(x, y):\n",
    "    return [\n",
    "        phi_alpha_beta(-1, -1, x, y),\n",
    "        phi_alpha_beta(1, -1, x, y),\n",
    "        phi_alpha_beta(1, 1, x, y),\n",
    "        phi_alpha_beta(-1, 1, x, y)\n",
    "    ]\n",
    "\n",
    "# Define transformation from reference element T: K_hat -> K,\n",
    "# with K being the element defined by quad.\n",
    "def T(x, y):\n",
    "    p = phi_local(x, y)\n",
    "    return points[0] * p[0] + points[1] * p[1] + points[2] * p[2] + points[3] * p[3]\n",
    "    \n",
    "def u(x, y):\n",
    "    return 5 * x * y + 3 * x - 2 * y - 5\n",
    "\n",
    "def u_local(xi, eta):\n",
    "    (x, y) = T(xi, eta)\n",
    "    return u(x, y)\n",
    "\n",
    "u_h_weights = [u(p[0], p[1]) for p in points]\n",
    "\n",
    "def u_h_local(xi, eta):\n",
    "    p = phi_local(xi, eta)\n",
    "    u = u_h_weights\n",
    "    return u[0] * p[0] + u[1] * p[1] + u[2] * p[2] + u[3] * p[3]"
   ]
  },
  {
   "cell_type": "code",
   "execution_count": 15,
   "metadata": {},
   "outputs": [
    {
     "data": {
      "text/latex": [
       "$\\displaystyle \\frac{9955}{12}$"
      ],
      "text/plain": [
       "9955/12"
      ]
     },
     "execution_count": 15,
     "metadata": {},
     "output_type": "execute_result"
    }
   ],
   "source": [
    "det_J_K = Matrix(T(x, y)).jacobian(Matrix([x, y])).det()\n",
    "\n",
    "integrand = expand(det_J_K * (u_h_local(x, y) - u_local(x, y))**2)\n",
    "\n",
    "# Note: It may be necessary to expand the polynomial for use with polytope_integrate\n",
    "#integral = polytope_integrate(reference_quad, 1)\n",
    "# Note: polytope_integrate did not seem to work so well. Since we anyway integrate in the reference domain,\n",
    "# which is a simple square, we can just integrate normally with simple limits\n",
    "integral = integrate(integrand, (x, -1, 1), (y, -1, 1))\n",
    "integral"
   ]
  },
  {
   "cell_type": "code",
   "execution_count": 16,
   "metadata": {},
   "outputs": [
    {
     "data": {
      "text/latex": [
       "$\\displaystyle \\frac{43 x y}{2} + \\frac{29 x}{2} - \\frac{3 y}{2} - \\frac{19}{2}$"
      ],
      "text/plain": [
       "43*x*y/2 + 29*x/2 - 3*y/2 - 19/2"
      ]
     },
     "execution_count": 16,
     "metadata": {},
     "output_type": "execute_result"
    }
   ],
   "source": [
    "expand(u_h_local(x, y))"
   ]
  },
  {
   "cell_type": "code",
   "execution_count": 17,
   "metadata": {},
   "outputs": [
    {
     "data": {
      "text/latex": [
       "$\\displaystyle - \\frac{15 x^{2} y^{2}}{16} - \\frac{45 x^{2} y}{8} - \\frac{135 x^{2}}{16} + \\frac{25 x y^{2}}{4} + \\frac{43 x y}{2} + \\frac{33 x}{4} + \\frac{35 y^{2}}{16} + \\frac{33 y}{8} - \\frac{37}{16}$"
      ],
      "text/plain": [
       "-15*x**2*y**2/16 - 45*x**2*y/8 - 135*x**2/16 + 25*x*y**2/4 + 43*x*y/2 + 33*x/4 + 35*y**2/16 + 33*y/8 - 37/16"
      ]
     },
     "execution_count": 17,
     "metadata": {},
     "output_type": "execute_result"
    }
   ],
   "source": [
    "expand(u_local(x, y))"
   ]
  },
  {
   "cell_type": "code",
   "execution_count": null,
   "metadata": {},
   "outputs": [],
   "source": []
  },
  {
   "cell_type": "code",
   "execution_count": null,
   "metadata": {},
   "outputs": [],
   "source": []
  }
 ],
 "metadata": {
  "kernelspec": {
   "display_name": "Python 3",
   "language": "python",
   "name": "python3"
  },
  "language_info": {
   "codemirror_mode": {
    "name": "ipython",
    "version": 3
   },
   "file_extension": ".py",
   "mimetype": "text/x-python",
   "name": "python",
   "nbconvert_exporter": "python",
   "pygments_lexer": "ipython3",
   "version": "3.6.9"
  }
 },
 "nbformat": 4,
 "nbformat_minor": 2
}
